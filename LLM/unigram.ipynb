{
 "cells": [
  {
   "cell_type": "markdown",
   "metadata": {},
   "source": [
    "# Unigram\n",
    "\n",
    "Unigram은 단어를 독립적으로 취급하고 각 단어의 확률을 계산하여 문장의 확률을 평가하는 간단한 언어 모델<br>\n",
    "빠르고 구현이 용이하지만, 문맥 정보를 반영하지 못하는 단점이 존재함\n",
    "\n",
    "### Training\n",
    "Unigram은 훈련 데이터의 likelihood를 극대화하기 위해 토큰을 반복적으로 제거하며 학습함\n",
    "\n",
    "훈련 데이터의 모든 단어, 하위 단어 및 문자로 구성된 large vocabulary로 시작 \n",
    "\n",
    "현재 vocabulary에 따른 데이터의 likelihood에 기반하여 이를 높이는 방향으로 토큰을 제거함\n",
    "\n",
    "vocabulary size가 미리 정해진 한도에 도달할 때 까지 이를 반복함"
   ]
  },
  {
   "cell_type": "code",
   "execution_count": 1,
   "metadata": {},
   "outputs": [
    {
     "name": "stdout",
     "output_type": "stream",
     "text": [
      "\n",
      "\n",
      "Tokens: ['H', 'e', 'l', 'l', 'o', ',', 'h', 'o', 'w', 'a', 'r', 'e', 'y', 'ou', '?']\n",
      "Input IDs: [6, 4, 10, 10, 3, 11, 13, 3, 8, 1, 14, 4, 5, 2, 9]\n",
      "Decoded text: H e l l o , h o w a r e y ou ?\n"
     ]
    }
   ],
   "source": [
    "from tokenizers import Tokenizer\n",
    "from tokenizers.models import Unigram\n",
    "from tokenizers.trainers import UnigramTrainer\n",
    "from tokenizers.pre_tokenizers import Whitespace\n",
    "\n",
    "# Initialize a Unigram tokenizer\n",
    "tokenizer = Tokenizer(Unigram())\n",
    "tokenizer.pre_tokenizer = Whitespace()\n",
    "\n",
    "# Define a trainer for the tokenizer\n",
    "trainer = UnigramTrainer(vocab_size=1000, special_tokens=[\"<unk>\"])\n",
    "\n",
    "# Training data\n",
    "data = [\"Hello, how are you?\", \"I am fine, thank you.\", \"How about you?\"]\n",
    "\n",
    "# Train the tokenizer\n",
    "tokenizer.train_from_iterator(data, trainer)\n",
    "\n",
    "# Tokenize a new sentence\n",
    "output = tokenizer.encode(\"Hello, how are you?\")\n",
    "print(\"Tokens:\", output.tokens)\n",
    "\n",
    "# Convert tokens to IDs\n",
    "print(\"Input IDs:\", output.ids)\n",
    "\n",
    "# Decode IDs back to text\n",
    "print(\"Decoded text:\", tokenizer.decode(output.ids))\n"
   ]
  }
 ],
 "metadata": {
  "kernelspec": {
   "display_name": ".pytorch",
   "language": "python",
   "name": "python3"
  },
  "language_info": {
   "codemirror_mode": {
    "name": "ipython",
    "version": 3
   },
   "file_extension": ".py",
   "mimetype": "text/x-python",
   "name": "python",
   "nbconvert_exporter": "python",
   "pygments_lexer": "ipython3",
   "version": "3.10.12"
  }
 },
 "nbformat": 4,
 "nbformat_minor": 2
}
