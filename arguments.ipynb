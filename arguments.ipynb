{
 "cells": [
  {
   "cell_type": "markdown",
   "metadata": {},
   "source": [
    "파이썬 함수의 인자로 다양한 인자들이 존재한다.\n",
    "\n",
    "- 기본 인자\n",
    "    - 위치 인수\n",
    "    - 키워드 인수\n",
    "\n",
    "- 가변 인자\n",
    "    - 위치 가변 인자 (*args)\n",
    "    - 키워드 가변 인자 (**kwargs)"
   ]
  },
  {
   "cell_type": "markdown",
   "metadata": {},
   "source": [
    "### 0. 기본 인자 : 위치 인자, 키워드 인자\n",
    "\n",
    "간단히 설명하면 위치 인자는 위치 자체로 함수의 인자로 들어가고 <br>\n",
    "키워드 인자는 키워드 (ex. y = 3)를 통해 함수의 인자로 들어간다"
   ]
  },
  {
   "cell_type": "code",
   "execution_count": 20,
   "metadata": {},
   "outputs": [
    {
     "name": "stdout",
     "output_type": "stream",
     "text": [
      "x : 10, y : 3\n"
     ]
    },
    {
     "data": {
      "text/plain": [
       "13"
      ]
     },
     "execution_count": 20,
     "metadata": {},
     "output_type": "execute_result"
    }
   ],
   "source": [
    "def func0(x, y):\n",
    "    print(f\"x : {x}, y : {y}\")\n",
    "    return x + y\n",
    "\n",
    "func0(10, y = 3)"
   ]
  },
  {
   "cell_type": "markdown",
   "metadata": {},
   "source": [
    "가변 인자 : 함수가 임의의 개수의 인수를 받을 수 있도록 하는 기능<br>\n",
    "기본 인자와 비교하면 기본인자는 1:1 매핑, 가변 인자는 1:N 매핑이 된다고 이해하면 된다.\n",
    "\n",
    "### 1. 위치 가변 인자 : *args\n",
    "\n",
    "전달된 모든 위치 인수들은 **튜플**로 묶여서 함수 내에서 사용 <br>\n",
    "위치 인자와 동일하게 위치에 따라 받는 인자들이 정해진다"
   ]
  },
  {
   "cell_type": "code",
   "execution_count": 21,
   "metadata": {},
   "outputs": [
    {
     "name": "stdout",
     "output_type": "stream",
     "text": [
      "x : 1\n",
      "*args : ([10, 5], 3)\n"
     ]
    }
   ],
   "source": [
    "def func1(x, *args):\n",
    "    print(f\"x : {x}\")\n",
    "    print(f\"*args : {args}\")\n",
    "\n",
    "func1(1, [10, 5], 3)"
   ]
  },
  {
   "cell_type": "markdown",
   "metadata": {},
   "source": [
    "이때 *args의 위치에 따라 아래와 같은 오류가 발생 할 수 있다."
   ]
  },
  {
   "cell_type": "code",
   "execution_count": 22,
   "metadata": {},
   "outputs": [
    {
     "ename": "TypeError",
     "evalue": "func2() missing 1 required keyword-only argument: 'y'",
     "output_type": "error",
     "traceback": [
      "\u001b[0;31m---------------------------------------------------------------------------\u001b[0m",
      "\u001b[0;31mTypeError\u001b[0m                                 Traceback (most recent call last)",
      "Cell \u001b[0;32mIn[22], line 6\u001b[0m\n\u001b[1;32m      3\u001b[0m     \u001b[38;5;28mprint\u001b[39m(\u001b[38;5;124mf\u001b[39m\u001b[38;5;124m\"\u001b[39m\u001b[38;5;124m*args : \u001b[39m\u001b[38;5;132;01m{\u001b[39;00margs\u001b[38;5;132;01m}\u001b[39;00m\u001b[38;5;124m\"\u001b[39m)\n\u001b[1;32m      4\u001b[0m     \u001b[38;5;28mprint\u001b[39m(\u001b[38;5;124mf\u001b[39m\u001b[38;5;124m\"\u001b[39m\u001b[38;5;124my : \u001b[39m\u001b[38;5;132;01m{\u001b[39;00my\u001b[38;5;132;01m}\u001b[39;00m\u001b[38;5;124m\"\u001b[39m)\n\u001b[0;32m----> 6\u001b[0m \u001b[43mfunc2\u001b[49m\u001b[43m(\u001b[49m\u001b[38;5;241;43m1\u001b[39;49m\u001b[43m,\u001b[49m\u001b[43m \u001b[49m\u001b[38;5;241;43m10\u001b[39;49m\u001b[43m,\u001b[49m\u001b[43m \u001b[49m\u001b[38;5;241;43m5\u001b[39;49m\u001b[43m,\u001b[49m\u001b[43m \u001b[49m\u001b[38;5;241;43m3\u001b[39;49m\u001b[43m)\u001b[49m\n",
      "\u001b[0;31mTypeError\u001b[0m: func2() missing 1 required keyword-only argument: 'y'"
     ]
    }
   ],
   "source": [
    "def func2(x, *args, y):\n",
    "    print(f\"x : {x}\")\n",
    "    print(f\"*args : {args}\")\n",
    "    print(f\"y : {y}\")\n",
    "\n",
    "func2(1, 10, 5, 3)"
   ]
  },
  {
   "cell_type": "markdown",
   "metadata": {},
   "source": [
    "위와 같은 경우 가변 위치 인자인 *args 때문에 함수에 y에 해당하는 인자가 전달되지 않은 것이다. <br>\n",
    "따라서 키워드 인자를 통해 다음과 같이 y에 값을 넣어 주어야 한다."
   ]
  },
  {
   "cell_type": "code",
   "execution_count": 23,
   "metadata": {},
   "outputs": [
    {
     "name": "stdout",
     "output_type": "stream",
     "text": [
      "x : 1\n",
      "*args : (10, 5)\n",
      "y : 3\n"
     ]
    }
   ],
   "source": [
    "func2(1, 10, 5, y=3)"
   ]
  },
  {
   "cell_type": "markdown",
   "metadata": {},
   "source": [
    "### 2. 키워드 가변 인자 : **kwargs\n",
    "\n",
    "키워드 가변 인자는 함수가 임의의 개수의 키워드 인자를 받을 수 있도록 한다.\n",
    "\n",
    "**kwargs를 사용하면, 전달된 모든 키워드 인수들은 **딕셔너리**로 묶여서 함수 내에서 사용한다."
   ]
  },
  {
   "cell_type": "code",
   "execution_count": 33,
   "metadata": {},
   "outputs": [
    {
     "name": "stdout",
     "output_type": "stream",
     "text": [
      "x : 1\n",
      " key & value : (a, 10)\n",
      " key & value : (c, 5)\n",
      " key & value : (d, 3)\n"
     ]
    }
   ],
   "source": [
    "def func3(x, **kwargs):\n",
    "    print(f\"x : {x}\")\n",
    "    for (key, value) in kwargs.items():\n",
    "        print(f\" key & value : ({key}, {value})\")\n",
    "\n",
    "func3(1, a = 10, c = 5, d = 3)"
   ]
  },
  {
   "cell_type": "markdown",
   "metadata": {},
   "source": [
    "**kwargs는 딥러닝 모델을 정의할 때 다양한 인자들 (예를 들어 scale, aspect ratio 등등)을 **kwargs에 담아서 (key, value) 쌍으로 꺼내서 사용하게 된다.\n",
    "\n",
    "이때 (불필요한 생각이지만) 키워드 가변 인자 뒤에 키워드 인자를 두면 어떻게 되는지 궁금할 수 있다. <br>\n",
    "\n",
    "아래의 코드에서 보면 오류가 발생하는데, 이는 키워드 가변인자는 함수의 정의에서 위치 인수와 키워드 전용 인수 뒤에 와야하는 파이썬 문법의 조건이 있다고 한다."
   ]
  },
  {
   "cell_type": "code",
   "execution_count": 29,
   "metadata": {},
   "outputs": [
    {
     "ename": "SyntaxError",
     "evalue": "invalid syntax (3782993269.py, line 1)",
     "output_type": "error",
     "traceback": [
      "\u001b[0;36m  Cell \u001b[0;32mIn[29], line 1\u001b[0;36m\u001b[0m\n\u001b[0;31m    def func4(x, **kwargs, y):\u001b[0m\n\u001b[0m                           ^\u001b[0m\n\u001b[0;31mSyntaxError\u001b[0m\u001b[0;31m:\u001b[0m invalid syntax\n"
     ]
    }
   ],
   "source": [
    "def func4(x, **kwargs, y):\n",
    "    print(f\"x : {x}\")\n",
    "    print(f\"**kwargs : {kwargs}\")\n",
    "    print(f\"y : {y}\")\n",
    "\n",
    "func4(1, a = 10, c = 5, d = 3, y = 1)"
   ]
  },
  {
   "cell_type": "markdown",
   "metadata": {},
   "source": [
    "### 3. 위치 가변 인자와 키워드 가변 인자 함께 사용\n",
    "\n",
    "앞에서 구현한 함수들과 여러가지 오류들(제약사항)을 생각하며 예시 함수를 구현해보자"
   ]
  },
  {
   "cell_type": "code",
   "execution_count": 37,
   "metadata": {},
   "outputs": [
    {
     "name": "stdout",
     "output_type": "stream",
     "text": [
      "x : 10\n",
      "*args : ('위치 인자', 1, 2, ['hi', 'hello'])\n",
      " key & value : (a, 키워드)\n",
      " key & value : (b, 가변)\n",
      " key & value : (c, 인자)\n"
     ]
    }
   ],
   "source": [
    "def func5(x, *args, **kwargs):\n",
    "    print(f\"x : {x}\")\n",
    "    print(f\"*args : {args}\")\n",
    "    for (key, value) in kwargs.items():\n",
    "        print(f\" key & value : ({key}, {value})\")\n",
    "\n",
    "func5(10, \"위치 인자\", 1, 2, [\"hi\", \"hello\"], a=\"키워드\", b=\"가변\", c=\"인자\")"
   ]
  },
  {
   "cell_type": "markdown",
   "metadata": {},
   "source": [
    "### 4. 마지막으로 DL 모델 구현에서 사용되는 예시를 보며 마무리 하겠다.\n",
    "\n",
    "아래는 SwinTransformer에 대한 구현 내용이다. <br>\n",
    "출처 (https://github.com/berniwal/swin-transformer-pytorch) <br>\n",
    "직접 코드를 실행하진 않으며 인자로 전달되는 kwargs를 위주로 보길 바란다."
   ]
  },
  {
   "cell_type": "code",
   "execution_count": null,
   "metadata": {},
   "outputs": [],
   "source": [
    "net = SwinTransformer(\n",
    "    hidden_dim=96,\n",
    "    layers=(2, 2, 6, 2),\n",
    "    heads=(3, 6, 12, 24),\n",
    "    channels=3,\n",
    "    num_classes=3,\n",
    "    head_dim=32,\n",
    "    window_size=7,\n",
    "    downscaling_factors=(4, 2, 2, 2),\n",
    "    relative_pos_embedding=True\n",
    ")"
   ]
  },
  {
   "cell_type": "code",
   "execution_count": null,
   "metadata": {},
   "outputs": [],
   "source": [
    "def swin_t(hidden_dim=96, layers=(2, 2, 6, 2), heads=(3, 6, 12, 24), **kwargs):\n",
    "    return SwinTransformer(hidden_dim=hidden_dim, layers=layers, heads=heads, **kwargs)"
   ]
  },
  {
   "cell_type": "markdown",
   "metadata": {},
   "source": [
    "hidden_dim, layers, heads 외의 인자들은 모두 kwargs로 전달된다.\n",
    "\n",
    "이때 swin_t 함수 선언의 매개변수 **kwargs는 위의 설명대로 **가변 키워드 인자**를 의미한다. <br>\n",
    "그리고 SwinTransformer의 인자로 전달되는 **kwargs는 **딕셔너리 언패킹**을 의미한다."
   ]
  },
  {
   "cell_type": "code",
   "execution_count": null,
   "metadata": {},
   "outputs": [],
   "source": [
    "class SwinTransformer(nn.Module):\n",
    "    def __init__(self, *, hidden_dim, layers, heads, channels=3, num_classes=1000, head_dim=32, window_size=7,\n",
    "                 downscaling_factors=(4, 2, 2, 2), relative_pos_embedding=True):"
   ]
  },
  {
   "cell_type": "markdown",
   "metadata": {},
   "source": [
    "굳이 **kwargs를 쓰지 않고 모든 키워드 인자를 입력해서 쓰면 어떨까라는 생각도 하지만 <br>\n",
    "DL 모델들의 특성상 바꿔줘야할 하이퍼파라미터가 무수히 많기 때문에 이러한 가변 인자를 통해서 코드를 좀 더 간결하게 만드는게 아닐까 싶다."
   ]
  }
 ],
 "metadata": {
  "kernelspec": {
   "display_name": "dlpoetry-5eG4FEyD-py3.10",
   "language": "python",
   "name": "python3"
  },
  "language_info": {
   "codemirror_mode": {
    "name": "ipython",
    "version": 3
   },
   "file_extension": ".py",
   "mimetype": "text/x-python",
   "name": "python",
   "nbconvert_exporter": "python",
   "pygments_lexer": "ipython3",
   "version": "3.10.12"
  }
 },
 "nbformat": 4,
 "nbformat_minor": 2
}
