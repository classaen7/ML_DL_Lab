{
 "cells": [
  {
   "cell_type": "markdown",
   "metadata": {},
   "source": [
    "view는 비연속적은 contiguos()처리를 해야함\n",
    "비연속적인 경우\n",
    "1. transpose 하는 경우\n",
    "2. slicing으로 배열에 재할당하는경우 // sliced_tensor = tensor[:, 1:]\n",
    "3. permute로 차원 바꾸는 거"
   ]
  },
  {
   "cell_type": "markdown",
   "metadata": {},
   "source": [
    "view 함수를 사용하여 텐서의 모양을 변경할 때, 텐서의 요소들은 메모리 저장 순서에 따라 새로운 모양으로 재배치됩니다. \n",
    "\n",
    "메모리 저장 순서란, 텐서가 메모리에 연속적으로 저장된 순서를 의미합니다"
   ]
  },
  {
   "cell_type": "code",
   "execution_count": 1,
   "metadata": {},
   "outputs": [
    {
     "data": {
      "text/plain": [
       "tensor([[[[ 0,  1,  2,  3],\n",
       "          [ 4,  5,  6,  7],\n",
       "          [ 8,  9, 10, 11]],\n",
       "\n",
       "         [[12, 13, 14, 15],\n",
       "          [16, 17, 18, 19],\n",
       "          [20, 21, 22, 23]]]])"
      ]
     },
     "execution_count": 1,
     "metadata": {},
     "output_type": "execute_result"
    }
   ],
   "source": [
    "import torch\n",
    "\n",
    "t = torch.arange(24).view(1,2,3,4)\n",
    "t"
   ]
  },
  {
   "cell_type": "code",
   "execution_count": 6,
   "metadata": {},
   "outputs": [
    {
     "name": "stdout",
     "output_type": "stream",
     "text": [
      "tensor([[[ 1,  2],\n",
      "         [ 3,  4]],\n",
      "\n",
      "        [[ 5,  6],\n",
      "         [ 7,  8]],\n",
      "\n",
      "        [[ 9, 10],\n",
      "         [11, 12]]])\n",
      "tensor([[[ 1,  2],\n",
      "         [ 5,  6],\n",
      "         [ 9, 10]],\n",
      "\n",
      "        [[ 3,  4],\n",
      "         [ 7,  8],\n",
      "         [11, 12]]])\n"
     ]
    }
   ],
   "source": [
    "t2 = torch.arange(1,13).view(3,2,2)\n",
    "print(t2)\n",
    "t3 = t2.permute(1,0,2)\n",
    "print(t3)"
   ]
  },
  {
   "cell_type": "code",
   "execution_count": 8,
   "metadata": {},
   "outputs": [
    {
     "name": "stdout",
     "output_type": "stream",
     "text": [
      "tensor([[ 1,  2,  3,  4],\n",
      "        [ 5,  6,  7,  8],\n",
      "        [ 9, 10, 11, 12]])\n",
      "tensor([[ 1,  2,  3],\n",
      "        [ 4,  5,  6],\n",
      "        [ 7,  8,  9],\n",
      "        [10, 11, 12]])\n",
      "tensor([[ 1,  5,  9],\n",
      "        [ 2,  6, 10],\n",
      "        [ 3,  7, 11],\n",
      "        [ 4,  8, 12]])\n"
     ]
    }
   ],
   "source": [
    "# Permute랑 view는 다름\n",
    "\n",
    "t = torch.arange(1,13).reshape(3,4)\n",
    "\n",
    "t_view = t.view(4,3)\n",
    "t_perm = t.permute(1,0)\n",
    "\n",
    "print(t)\n",
    "print(t_view)\n",
    "print(t_perm)\n"
   ]
  },
  {
   "cell_type": "code",
   "execution_count": 11,
   "metadata": {},
   "outputs": [
    {
     "name": "stdout",
     "output_type": "stream",
     "text": [
      "tensor([[[ 1,  2,  3],\n",
      "         [ 4,  5,  6]],\n",
      "\n",
      "        [[ 7,  8,  9],\n",
      "         [10, 11, 12]],\n",
      "\n",
      "        [[13, 14, 15],\n",
      "         [16, 17, 18]],\n",
      "\n",
      "        [[19, 20, 21],\n",
      "         [22, 23, 24]]])\n",
      "tensor([[[ 1,  2,  3],\n",
      "         [ 7,  8,  9],\n",
      "         [13, 14, 15],\n",
      "         [19, 20, 21]],\n",
      "\n",
      "        [[ 4,  5,  6],\n",
      "         [10, 11, 12],\n",
      "         [16, 17, 18],\n",
      "         [22, 23, 24]]])\n"
     ]
    }
   ],
   "source": [
    "t = torch.arange(1,25).view(4,2,3)\n",
    "print(t)\n",
    "\n",
    "print(t.permute(1,0,2))\n",
    "\n"
   ]
  },
  {
   "cell_type": "code",
   "execution_count": 4,
   "metadata": {},
   "outputs": [
    {
     "data": {
      "text/plain": [
       "tensor([ 0,  1,  2,  3,  4,  5,  6,  7,  8,  9, 10, 11, 12, 13, 14, 15, 16, 17,\n",
       "        18, 19, 20, 21, 22, 23])"
      ]
     },
     "execution_count": 4,
     "metadata": {},
     "output_type": "execute_result"
    }
   ],
   "source": [
    "PyTorch에서 텐서가 메모리에 저장되는 순서는 C-주도(C-order) 또는 행우선(row-major) 순서라고 합니다. 이는 가장 마지막 차원부터 순차적으로 메모리에 저장된다는 의미입니다."
   ]
  }
 ],
 "metadata": {
  "kernelspec": {
   "display_name": "dlpoetry-5eG4FEyD-py3.10",
   "language": "python",
   "name": "python3"
  },
  "language_info": {
   "codemirror_mode": {
    "name": "ipython",
    "version": 3
   },
   "file_extension": ".py",
   "mimetype": "text/x-python",
   "name": "python",
   "nbconvert_exporter": "python",
   "pygments_lexer": "ipython3",
   "version": "3.10.12"
  }
 },
 "nbformat": 4,
 "nbformat_minor": 2
}
