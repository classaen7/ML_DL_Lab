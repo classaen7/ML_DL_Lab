{
 "cells": [
  {
   "cell_type": "markdown",
   "metadata": {},
   "source": [
    "# Query & Key & Value\n",
    "\n",
    "Transformer 모델의 multi-head attention 메커니즘은 입력 데이터에 대해 다양한 위치의 정보를 고려하여 연산을 수행한다. <br>\n",
    "이 과정에서 입력 데이터는 세 가지 요소인 Query (Q), Key (K), Value (V)로 변환된다.\n",
    "\n",
    "`Query`<br>\n",
    "현재 입력 데이터의 정보를 표현하며, 다른 입력과의 관계를 탐색하는 데 사용된다.\n",
    "\n",
    "`Key`<br>\n",
    "입력 데이터의 각 요소에 대한 \"고유한 식별자\"로 작용하며, Query와 비교하여 관련성을 평가하는 데 사용된다.\n",
    "\n",
    "`Value`<br>\n",
    "Query와 Key의 관계가 성립될 때 참조되는 실제 정보이며, attention score에 따라 가중치가 조정되어 최종 출력에 반영된다.\n",
    "\n",
    "\n",
    "위와 같은 `Q`, `K`, `V`를 만드는 코드를 확인하겠다. "
   ]
  },
  {
   "cell_type": "code",
   "execution_count": 1,
   "metadata": {},
   "outputs": [],
   "source": [
    "import torch\n",
    "import torch.nn as nn"
   ]
  },
  {
   "cell_type": "markdown",
   "metadata": {},
   "source": [
    "Transformer 모델의 경우 입력과 출력의 크기가 항상 동일하다는 특징이 있다."
   ]
  },
  {
   "cell_type": "code",
   "execution_count": 2,
   "metadata": {},
   "outputs": [],
   "source": [
    "batch = 64\n",
    "seq = 1024\n",
    "n_dim = 768\n",
    "n_head = 16\n",
    "\n",
    "X = torch.randn(batch, seq, n_dim)"
   ]
  },
  {
   "cell_type": "markdown",
   "metadata": {},
   "source": [
    "## `nn.Linear` + `torch.split` OR `torch.chunk`\n",
    "\n",
    "`torch.split` \n",
    "\n",
    "- **split_size_or_sections**\n",
    "\n",
    ": 각 부분의 크기(정수) 또는 각 부분의 크기를 나열한 리스트\n",
    "\n",
    "- **dim**\n",
    "\n",
    ": split 할 대상 차원을 선택한다."
   ]
  },
  {
   "cell_type": "code",
   "execution_count": 10,
   "metadata": {},
   "outputs": [
    {
     "name": "stdout",
     "output_type": "stream",
     "text": [
      "torch.Size([64, 1024, 768]) torch.Size([64, 1024, 768]) torch.Size([64, 1024, 768])\n"
     ]
    }
   ],
   "source": [
    "linear = nn.Linear(n_dim, 3*n_dim, bias=False)\n",
    "q, k, v = linear(X).split(n_dim, dim=-1) # 마지막 차원 (n_dim)을 대상으로 각 768개씩 쪼갠다.\n",
    "print(q.shape, k.shape, v.shape)"
   ]
  },
  {
   "cell_type": "markdown",
   "metadata": {},
   "source": [
    "`torch.chunk`\n",
    "\n",
    "- **chunks**\n",
    "\n",
    ": 반환 할 부분(청크)의 수\n",
    "\n",
    "\n",
    "- **dim**\n",
    "\n",
    ": 구분 할 대상 차원을 선택한다."
   ]
  },
  {
   "cell_type": "code",
   "execution_count": 11,
   "metadata": {},
   "outputs": [
    {
     "name": "stdout",
     "output_type": "stream",
     "text": [
      "torch.Size([64, 1024, 768]) torch.Size([64, 1024, 768]) torch.Size([64, 1024, 768])\n"
     ]
    }
   ],
   "source": [
    "q, k, v = linear(X).chunk(3, dim=-1)\n",
    "print(q.shape, k.shape, v.shape)"
   ]
  },
  {
   "cell_type": "markdown",
   "metadata": {},
   "source": [
    "## Only `nn.Linear`"
   ]
  },
  {
   "cell_type": "code",
   "execution_count": 12,
   "metadata": {},
   "outputs": [
    {
     "name": "stdout",
     "output_type": "stream",
     "text": [
      "torch.Size([64, 1024, 768]) torch.Size([64, 1024, 768]) torch.Size([64, 1024, 768])\n"
     ]
    }
   ],
   "source": [
    "q_linear = nn.Linear(n_dim, n_dim, bias=False)\n",
    "k_linear = nn.Linear(n_dim, n_dim, bias=False)\n",
    "v_linear = nn.Linear(n_dim, n_dim, bias=False)\n",
    "\n",
    "q = q_linear(X)\n",
    "k = k_linear(X)\n",
    "v = v_linear(X)\n",
    "\n",
    "print(q.shape, k.shape, v.shape)"
   ]
  },
  {
   "cell_type": "markdown",
   "metadata": {},
   "source": [
    "# Multi Head를 위한 분리\n",
    "\n",
    "Transformer 모델은 Multi-Head Attention을 수행하므로 Q, K, V 각각을 헤드수에 맞게 차원을 조정해야한다.<br>\n",
    "이때 `view`와 `transpose`함수를 통해 조절된다.\n",
    "\n",
    "Multi Head Attention에 들어갈 각 차원은 **`(배치, 헤드 수, 시퀀스, 차원//헤드 수)`** 이다."
   ]
  },
  {
   "cell_type": "code",
   "execution_count": 13,
   "metadata": {},
   "outputs": [],
   "source": [
    "k = k.view(batch, seq, n_head, n_dim//n_head).transpose(1, 2)\n",
    "v = v.view(batch, seq, n_head, n_dim//n_head).transpose(1, 2)\n",
    "q = q.view(batch, seq, n_head, n_dim//n_head).transpose(1, 2)"
   ]
  },
  {
   "cell_type": "code",
   "execution_count": 14,
   "metadata": {},
   "outputs": [
    {
     "name": "stdout",
     "output_type": "stream",
     "text": [
      "torch.Size([64, 16, 1024, 48]) torch.Size([64, 16, 1024, 48]) torch.Size([64, 16, 1024, 48])\n"
     ]
    }
   ],
   "source": [
    "print(k.shape, v.shape, q.shape)"
   ]
  }
 ],
 "metadata": {
  "kernelspec": {
   "display_name": ".pytorch",
   "language": "python",
   "name": "python3"
  },
  "language_info": {
   "codemirror_mode": {
    "name": "ipython",
    "version": 3
   },
   "file_extension": ".py",
   "mimetype": "text/x-python",
   "name": "python",
   "nbconvert_exporter": "python",
   "pygments_lexer": "ipython3",
   "version": "3.10.12"
  }
 },
 "nbformat": 4,
 "nbformat_minor": 2
}
